{
 "cells": [
  {
   "cell_type": "code",
   "execution_count": 1,
   "metadata": {},
   "outputs": [],
   "source": [
    "# Python SQL toolkit and Object Relational Mapper\n",
    "import sqlalchemy\n",
    "from sqlalchemy.ext.automap import automap_base\n",
    "from sqlalchemy.orm import Session\n",
    "from sqlalchemy import create_engine, func"
   ]
  },
  {
   "cell_type": "code",
   "execution_count": 6,
   "metadata": {},
   "outputs": [],
   "source": [
    "# establish connection\n",
    "engine = create_engine(\"sqlite:///Facilities.sqlite\")\n",
    "conn = engine.connect()"
   ]
  },
  {
   "cell_type": "code",
   "execution_count": 7,
   "metadata": {},
   "outputs": [
    {
     "data": {
      "text/plain": [
       "immutabledict({'AccessToCare': Table('AccessToCare', MetaData(bind=None), Column('HealthDistrict', TEXT(), table=<AccessToCare>, primary_key=True, nullable=False), Column('Percent', TEXT(), table=<AccessToCare>), Column('Estimated', TEXT(), table=<AccessToCare>), schema=None), 'Enrolled_MediCal': Table('Enrolled_MediCal', MetaData(bind=None), Column('Index', INTEGER(), table=<Enrolled_MediCal>, primary_key=True, nullable=False), Column('X', REAL(), table=<Enrolled_MediCal>), Column('Y', REAL(), table=<Enrolled_MediCal>), Column('Provider_Number', INTEGER(), table=<Enrolled_MediCal>), Column('NPI_Provider_Number', INTEGER(), table=<Enrolled_MediCal>), Column('Owner_Number', INTEGER(), table=<Enrolled_MediCal>), Column('Service_Location_Number', INTEGER(), table=<Enrolled_MediCal>), Column('Provider_Legal_Name', TEXT(), table=<Enrolled_MediCal>), Column('Enrollment_Status_Effective_Dat', TEXT(), table=<Enrolled_MediCal>), Column('Provider_Type_Code', INTEGER(), table=<Enrolled_MediCal>), Column('Provider_Type_Code_Desc', TEXT(), table=<Enrolled_MediCal>), Column('Provider_License_Number', TEXT(), table=<Enrolled_MediCal>), Column('Provider_Specialty_Code', TEXT(), table=<Enrolled_MediCal>), Column('Provider_Specialty_Code_Desc', TEXT(), table=<Enrolled_MediCal>), Column('Out_Of_State_Ind', INTEGER(), table=<Enrolled_MediCal>), Column('Out_Of_State_Desc', TEXT(), table=<Enrolled_MediCal>), Column('Provider_Address_County_Code', INTEGER(), table=<Enrolled_MediCal>), Column('Provider_Address_County_Code_De', TEXT(), table=<Enrolled_MediCal>), Column('Provider_Address_Attention_Line', TEXT(), table=<Enrolled_MediCal>), Column('Provider_Address_Line_1', TEXT(), table=<Enrolled_MediCal>), Column('Provider_Address_Line_2', TEXT(), table=<Enrolled_MediCal>), Column('Provider_Address_City', TEXT(), table=<Enrolled_MediCal>), Column('Provider_Address_State', TEXT(), table=<Enrolled_MediCal>), Column('Provider_Address_Zip', INTEGER(), table=<Enrolled_MediCal>), Column('Provider_Address_Latitude', REAL(), table=<Enrolled_MediCal>), Column('Provider_Address_Longitude', REAL(), table=<Enrolled_MediCal>), Column('MSSA_ID', TEXT(), table=<Enrolled_MediCal>), Column('Tract_ID', REAL(), table=<Enrolled_MediCal>), Column('File_', TEXT(), table=<Enrolled_MediCal>), Column('ObjectId', INTEGER(), table=<Enrolled_MediCal>), schema=None), 'Food_Pantry': Table('Food_Pantry', MetaData(bind=None), Column('#', INTEGER(), table=<Food_Pantry>, primary_key=True, nullable=False), Column('Name', TEXT(), table=<Food_Pantry>), Column('Description', TEXT(), table=<Food_Pantry>), Column('Type', TEXT(), table=<Food_Pantry>), Column('StreetAddress', TEXT(), table=<Food_Pantry>), Column('City', TEXT(), table=<Food_Pantry>), Column('State', TEXT(), table=<Food_Pantry>), Column('ZipCode', INTEGER(), table=<Food_Pantry>), Column('Phone', TEXT(), table=<Food_Pantry>), Column('Weblink', TEXT(), table=<Food_Pantry>), Column('FullAddress', TEXT(), table=<Food_Pantry>), Column('Latitude', REAL(), table=<Food_Pantry>), Column('Longitude', REAL(), table=<Food_Pantry>), schema=None), 'Health_Profiles': Table('Health_Profiles', MetaData(bind=None), Column('GEONAME', TEXT(), table=<Health_Profiles>, primary_key=True, nullable=False), Column('Pop_Tot', TEXT(), table=<Health_Profiles>), Column('Pop_Tot_Per', TEXT(), table=<Health_Profiles>), Column('Prop_65y', TEXT(), table=<Health_Profiles>), Column('Prop_65y_rank', REAL(), table=<Health_Profiles>), Column('Poverty', TEXT(), table=<Health_Profiles>), Column('Poverty_rank', REAL(), table=<Health_Profiles>), Column('Median_incoms', TEXT(), table=<Health_Profiles>), Column('MI_rank', REAL(), table=<Health_Profiles>), Column('Farmers_market', INTEGER(), table=<Health_Profiles>), Column('Farmers_market_rank', REAL(), table=<Health_Profiles>), Column('Food_insecurity', TEXT(), table=<Health_Profiles>), Column('Food_insecurity_rank', REAL(), table=<Health_Profiles>), Column('School_Meals', TEXT(), table=<Health_Profiles>), Column('School_Meals_rank', REAL(), table=<Health_Profiles>), Column('Health_index', INTEGER(), table=<Health_Profiles>), Column('Health_index_rank', REAL(), table=<Health_Profiles>), schema=None), 'LA_ed_data': Table('LA_ed_data', MetaData(bind=None), Column('oshpd_id', INTEGER(), table=<LA_ed_data>, primary_key=True, nullable=False), Column('facility_name', TEXT(), table=<LA_ed_data>), Column('control_type_desc', TEXT(), table=<LA_ed_data>), Column('DBA_ADDRESS1', TEXT(), table=<LA_ed_data>), Column('DBA_CITY', TEXT(), table=<LA_ed_data>), Column('DBA_ZIP_CODE', INTEGER(), table=<LA_ed_data>), Column('licensed_bed_size', TEXT(), table=<LA_ed_data>), Column('Sex_Female', TEXT(), table=<LA_ed_data>), Column('Sex_Male', TEXT(), table=<LA_ed_data>), Column('Age_01_09', TEXT(), table=<LA_ed_data>), Column('Age_10_19', TEXT(), table=<LA_ed_data>), Column('Age_20_29', TEXT(), table=<LA_ed_data>), Column('Age_30_39', TEXT(), table=<LA_ed_data>), Column('Age_40_49', TEXT(), table=<LA_ed_data>), Column('Age_50_59', TEXT(), table=<LA_ed_data>), Column('Age_60_69', TEXT(), table=<LA_ed_data>), Column('Age_70_79', TEXT(), table=<LA_ed_data>), Column('Age_80_', TEXT(), table=<LA_ed_data>), Column('Age_Under_1', TEXT(), table=<LA_ed_data>), Column('HispanicorLatino', TEXT(), table=<LA_ed_data>), Column('NonHis', TEXT(), table=<LA_ed_data>), Column('Unknown_Eth', TEXT(), table=<LA_ed_data>), Column('Acute_Care', TEXT(), table=<LA_ed_data>), Column('Against_Medical_Advice', TEXT(), table=<LA_ed_data>), Column('Died', TEXT(), table=<LA_ed_data>), Column('Other_Disp', TEXT(), table=<LA_ed_data>), Column('Prison_Jail', TEXT(), table=<LA_ed_data>), Column('Psychiatric_Care', TEXT(), table=<LA_ed_data>), Column('Routine', TEXT(), table=<LA_ed_data>), Column('Medi_Cal', TEXT(), table=<LA_ed_data>), Column('Medicare', TEXT(), table=<LA_ed_data>), Column('Other_Payer', TEXT(), table=<LA_ed_data>), Column('Private_Coverage', TEXT(), table=<LA_ed_data>), Column('SelfPay', TEXT(), table=<LA_ed_data>), Column('Unknown_Payer', TEXT(), table=<LA_ed_data>), Column('DX_All_Pregnancies', TEXT(), table=<LA_ed_data>), Column('DX_Birth_Defects', TEXT(), table=<LA_ed_data>), Column('DX_Blood_Disorders', TEXT(), table=<LA_ed_data>), Column('DX_Cancer', TEXT(), table=<LA_ed_data>), Column('DX_Circulatory_System', TEXT(), table=<LA_ed_data>), Column('DX_Digestive_System', TEXT(), table=<LA_ed_data>), Column('DX_Ear_Disorders', TEXT(), table=<LA_ed_data>), Column('DX_Endocrine_Diseases', TEXT(), table=<LA_ed_data>), Column('DX_Eye_Disorders', TEXT(), table=<LA_ed_data>), Column('DX_Genitourinary_System', TEXT(), table=<LA_ed_data>), Column('DX_Infections', TEXT(), table=<LA_ed_data>), Column('DX_Injuries_Poisonings', TEXT(), table=<LA_ed_data>), Column('DX_Mental_Disorders', TEXT(), table=<LA_ed_data>), Column('DX_Musculoskeletal_System', TEXT(), table=<LA_ed_data>), Column('DX_Nervous_System', TEXT(), table=<LA_ed_data>), Column('DX_Other_Reasons', TEXT(), table=<LA_ed_data>), Column('DX_Perinatal_Disorders', TEXT(), table=<LA_ed_data>), Column('DX_Respiratory_System', TEXT(), table=<LA_ed_data>), Column('DX_Skin_Disorders', TEXT(), table=<LA_ed_data>), Column('DX_Symptoms', TEXT(), table=<LA_ed_data>), Column('DX_Births', TEXT(), table=<LA_ed_data>), Column('ED_Visit', TEXT(), table=<LA_ed_data>), Column('All_Other_Languages', TEXT(), table=<LA_ed_data>), Column('English', TEXT(), table=<LA_ed_data>), Column('Spanish', TEXT(), table=<LA_ed_data>), schema=None), 'LosAnglesCountyLicData': Table('LosAnglesCountyLicData', MetaData(bind=None), Column('OSHPD_ID', INTEGER(), table=<LosAnglesCountyLicData>, primary_key=True, nullable=False), Column('FACILITY_NAME', TEXT(), table=<LosAnglesCountyLicData>), Column('LICENSE_NUM', INTEGER(), table=<LosAnglesCountyLicData>), Column('FACILITY_LEVEL_DESC', TEXT(), table=<LosAnglesCountyLicData>), Column('DBA_ADDRESS1', TEXT(), table=<LosAnglesCountyLicData>), Column('DBA_CITY', TEXT(), table=<LosAnglesCountyLicData>), Column('DBA_ZIP_CODE', INTEGER(), table=<LosAnglesCountyLicData>), Column('COUNTY_CODE', INTEGER(), table=<LosAnglesCountyLicData>), Column('COUNTY_NAME', TEXT(), table=<LosAnglesCountyLicData>), Column('ER_SERVICE_LEVEL_DESC', TEXT(), table=<LosAnglesCountyLicData>), Column('TOTAL_NUMBER_BEDS', INTEGER(), table=<LosAnglesCountyLicData>), Column('FACILITY_STATUS_DESC', TEXT(), table=<LosAnglesCountyLicData>), Column('FACILITY_STATUS_DATE', TEXT(), table=<LosAnglesCountyLicData>), Column('LICENSE_TYPE_DESC', TEXT(), table=<LosAnglesCountyLicData>), Column('LICENSE_CATEGORY_DESC', TEXT(), table=<LosAnglesCountyLicData>), Column('LATITUDE', REAL(), table=<LosAnglesCountyLicData>), Column('LONGITUDE', REAL(), table=<LosAnglesCountyLicData>), schema=None), 'encounters': Table('encounters', MetaData(bind=None), Column('year', INTEGER(), table=<encounters>, primary_key=True, nullable=False), Column('oshpd_id', INTEGER(), table=<encounters>, primary_key=True, nullable=False), Column('facility_name', TEXT(), table=<encounters>), Column('county_name', TEXT(), table=<encounters>), Column('er_service_level_desc', TEXT(), table=<encounters>), Column('type', TEXT(), table=<encounters>, primary_key=True, nullable=False), Column('count', INTEGER(), table=<encounters>), schema=None), 'hosp_la_df': Table('hosp_la_df', MetaData(bind=None), Column('FAC_NO', INTEGER(), table=<hosp_la_df>, primary_key=True, nullable=False), Column('FAC_NAME', TEXT(), table=<hosp_la_df>), Column('OP_STATUS', TEXT(), table=<hosp_la_df>), Column('TYPE_CNTRL', TEXT(), table=<hosp_la_df>), Column('TYPE_HOSP', TEXT(), table=<hosp_la_df>), Column('ZIP_CODE', INTEGER(), table=<hosp_la_df>), Column('STF_BEDS', INTEGER(), table=<hosp_la_df>), Column('DIS_TOT', INTEGER(), table=<hosp_la_df>), Column('DAY_TOT', INTEGER(), table=<hosp_la_df>), Column('VIS_TOT', INTEGER(), table=<hosp_la_df>), Column('GRIP_TOT', INTEGER(), table=<hosp_la_df>), Column('GROP_TOT', REAL(), table=<hosp_la_df>), Column('DED_TOT', INTEGER(), table=<hosp_la_df>), Column('CAP_TOT', INTEGER(), table=<hosp_la_df>), Column('NET_TOT', INTEGER(), table=<hosp_la_df>), Column('OTH_OP_REV', INTEGER(), table=<hosp_la_df>), Column('TOT_OP_EXP', INTEGER(), table=<hosp_la_df>), schema=None), 'hospitals': Table('hospitals', MetaData(bind=None), Column('OSHPD_ID', INTEGER(), table=<hospitals>, primary_key=True, nullable=False), Column('FACILITY_NAME', TEXT(), table=<hospitals>), Column('LICENSE_NUM', INTEGER(), table=<hospitals>), Column('FACILITY_LEVEL_DESC', TEXT(), table=<hospitals>), Column('DBA_ADDRESS1', TEXT(), table=<hospitals>), Column('DBA_CITY', TEXT(), table=<hospitals>), Column('DBA_ZIP_CODE', INTEGER(), table=<hospitals>), Column('COUNTY_CODE', INTEGER(), table=<hospitals>), Column('COUNTY_NAME', TEXT(), table=<hospitals>), Column('ER_SERVICE_LEVEL_DESC', TEXT(), table=<hospitals>), Column('TOTAL_NUMBER_BEDS', INTEGER(), table=<hospitals>), Column('FACILITY_STATUS_DESC', TEXT(), table=<hospitals>), Column('FACILITY_STATUS_DATE', TEXT(), table=<hospitals>), Column('LICENSE_TYPE_DESC', TEXT(), table=<hospitals>), Column('LICENSE_CATEGORY_DESC', TEXT(), table=<hospitals>), Column('LATITUDE', REAL(), table=<hospitals>), Column('LONGITUDE', REAL(), table=<hospitals>), Column('FAC_NO', INTEGER(), table=<hospitals>), Column('FAC_NAME', TEXT(), table=<hospitals>), Column('OP_STATUS', TEXT(), table=<hospitals>), Column('TYPE_CNTRL', TEXT(), table=<hospitals>), Column('TYPE_HOSP', TEXT(), table=<hospitals>), Column('ZIP_CODE', INTEGER(), table=<hospitals>), Column('STF_BEDS', INTEGER(), table=<hospitals>), Column('DIS_TOT', INTEGER(), table=<hospitals>), Column('DAY_TOT', INTEGER(), table=<hospitals>), Column('VIS_TOT', INTEGER(), table=<hospitals>), Column('GRIP_TOT', INTEGER(), table=<hospitals>), Column('GROP_TOT', REAL(), table=<hospitals>), Column('DED_TOT', INTEGER(), table=<hospitals>), Column('CAP_TOT', INTEGER(), table=<hospitals>), Column('NET_TOT', INTEGER(), table=<hospitals>), Column('OTH_OP_REV', INTEGER(), table=<hospitals>), Column('TOT_OP_EXP', INTEGER(), table=<hospitals>), schema=None), 'hospitals_avg_encounters': Table('hospitals_avg_encounters', MetaData(bind=None), Column('OSHPD_ID', INTEGER(), table=<hospitals_avg_encounters>, primary_key=True, nullable=False), Column('FAC_NAME', TEXT(), table=<hospitals_avg_encounters>), Column('DBA_ADDRESS1', TEXT(), table=<hospitals_avg_encounters>), Column('DBA_CITY', TEXT(), table=<hospitals_avg_encounters>), Column('DBA_ZIP_CODE', INTEGER(), table=<hospitals_avg_encounters>), Column('ER_SERVICE_LEVEL_DESC', TEXT(), table=<hospitals_avg_encounters>), Column('TOTAL_NUMBER_BEDS', INTEGER(), table=<hospitals_avg_encounters>), Column('LATITUDE', REAL(), table=<hospitals_avg_encounters>), Column('LONGITUDE', REAL(), table=<hospitals_avg_encounters>), Column('TYPE_CNTRL', TEXT(), table=<hospitals_avg_encounters>), Column('NET_TOT', INTEGER(), table=<hospitals_avg_encounters>), Column('er_service_level', TEXT(), table=<hospitals_avg_encounters>), Column('AvgAdmits', NullType(), table=<hospitals_avg_encounters>), Column('AvgVisits', NullType(), table=<hospitals_avg_encounters>), schema=None)})"
      ]
     },
     "execution_count": 7,
     "metadata": {},
     "output_type": "execute_result"
    }
   ],
   "source": [
    "# reflect an existing database into a new model\n",
    "Base = automap_base()\n",
    "Base.prepare(engine, reflect=True)\n",
    "\n",
    "# reflect the tables\n",
    "Base.metadata.tables"
   ]
  },
  {
   "cell_type": "code",
   "execution_count": 8,
   "metadata": {},
   "outputs": [
    {
     "data": {
      "text/plain": [
       "['AccessToCare',\n",
       " 'Enrolled_MediCal',\n",
       " 'Food_Pantry',\n",
       " 'Health_Profiles',\n",
       " 'LA_ed_data',\n",
       " 'LosAnglesCountyLicData',\n",
       " 'encounters',\n",
       " 'hosp_la_df',\n",
       " 'hospitals',\n",
       " 'hospitals_avg_encounters']"
      ]
     },
     "execution_count": 8,
     "metadata": {},
     "output_type": "execute_result"
    }
   ],
   "source": [
    "# We can view all of the classes that automap found\n",
    "Base.classes.keys()"
   ]
  },
  {
   "cell_type": "code",
   "execution_count": 9,
   "metadata": {},
   "outputs": [],
   "source": [
    "# Save references to each table\n",
    "Licensed  = Base.classes.LosAnglesCountyLicData\n",
    "Enrolled = Base.classes.Enrolled_MediCal"
   ]
  },
  {
   "cell_type": "code",
   "execution_count": null,
   "metadata": {},
   "outputs": [],
   "source": []
  }
 ],
 "metadata": {
  "kernelspec": {
   "display_name": "Python 3",
   "language": "python",
   "name": "python3"
  },
  "language_info": {
   "codemirror_mode": {
    "name": "ipython",
    "version": 3
   },
   "file_extension": ".py",
   "mimetype": "text/x-python",
   "name": "python",
   "nbconvert_exporter": "python",
   "pygments_lexer": "ipython3",
   "version": "3.7.6"
  }
 },
 "nbformat": 4,
 "nbformat_minor": 4
}
