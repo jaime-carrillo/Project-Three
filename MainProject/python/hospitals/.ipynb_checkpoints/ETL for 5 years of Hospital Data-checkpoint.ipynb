{
 "cells": [
  {
   "cell_type": "code",
   "execution_count": 1,
   "metadata": {},
   "outputs": [],
   "source": [
    "# Dependencies (just in case)\n",
    "import matplotlib.pyplot as plt\n",
    "import numpy as np\n",
    "import pandas as pd\n",
    "import seaborn as sns"
   ]
  },
  {
   "cell_type": "code",
   "execution_count": 7,
   "metadata": {},
   "outputs": [
    {
     "data": {
      "text/plain": [
       "Index(['year', 'oshpd_id2', 'oshpd_id', 'FACILITY_NAME',\n",
       "       'LICENSE_CATEGORY_DESC', 'COUNTY_NAME', 'DBA_ADDRESS1', 'DBA_CITY',\n",
       "       'DBA_ZIP_CODE', 'CONTROL_TYPE_DESC',\n",
       "       ...\n",
       "       'a_Spanish', 'a_Unknown_lang', 'a_blank_inv_lang', 'a_Zip_CA_Resident',\n",
       "       'a_Zip_Foreign', 'a_Zip_Homeless', 'a_Zip_Out_of_State',\n",
       "       'a_Zip_Unknown', 'a_Zip_Blank_Invalid', 'ED_STATIONS_ON_1231'],\n",
       "      dtype='object', length=182)"
      ]
     },
     "execution_count": 7,
     "metadata": {},
     "output_type": "execute_result"
    }
   ],
   "source": [
    "df_2019 = pd.read_csv('..//..//data/hospitals/2019-ed-pivot-table_20201013.csv')\n",
    "df_2019.columns"
   ]
  },
  {
   "cell_type": "code",
   "execution_count": 8,
   "metadata": {},
   "outputs": [
    {
     "data": {
      "text/plain": [
       "Index(['year', 'oshpd_id2', 'oshpd_id', 'county_name', 'facility_name',\n",
       "       'control_type_desc', 'ed_lic_levl_end', 'ems_station',\n",
       "       'rural_hospital_desc', 'teaching_hospital_desc',\n",
       "       ...\n",
       "       'a_ECM_Other_Factors', 'a_ECM_Supplementary_Factors',\n",
       "       'a_ECM_W_Inanimate_Animate_Object', 'a_ECM_Med_Device_Adverse_Inciden',\n",
       "       'a_ECM_Undetermined_Intent', 'a_ECM_NonTrans_Drowning_Subm',\n",
       "       'Inpatient_from_ED', 'a_All_Other_Languages', 'a_English', 'a_Spanish'],\n",
       "      dtype='object', length=195)"
      ]
     },
     "execution_count": 8,
     "metadata": {},
     "output_type": "execute_result"
    }
   ],
   "source": [
    "df_2018 = pd.read_csv('..//..//data/hospitals/2018-ed-pivot-table.csv')\n",
    "df_2018.columns"
   ]
  },
  {
   "cell_type": "code",
   "execution_count": 9,
   "metadata": {},
   "outputs": [
    {
     "data": {
      "text/plain": [
       "Index(['year', 'oshpd_id2', 'oshpd_id', 'county_name', 'facility_name',\n",
       "       'control_type_desc', 'ed_lic_levl_end', 'ems_station',\n",
       "       'rural_hospital_desc', 'teaching_hospital_desc',\n",
       "       ...\n",
       "       'a_ECM_Undetermined_Intent', 'a_ECM_W_Inanimate_Animate_Object',\n",
       "       'a_ECM_Intentional_SelfHarm', 'a_ECM_Medical_Misadventures',\n",
       "       'a_ECM_NonTrans_Drowning_Subm', 'a_ECM_Legal_War_Terrorism',\n",
       "       'Inpatient_from_ED', 'a_All_Other_Languages', 'a_English', 'a_Spanish'],\n",
       "      dtype='object', length=187)"
      ]
     },
     "execution_count": 9,
     "metadata": {},
     "output_type": "execute_result"
    }
   ],
   "source": [
    "df_2017 = pd.read_csv('..//..//data/hospitals/2017-ed-pivot-table20180718.csv')\n",
    "df_2017.columns"
   ]
  },
  {
   "cell_type": "code",
   "execution_count": 10,
   "metadata": {},
   "outputs": [
    {
     "data": {
      "text/plain": [
       "Index(['year', 'oshpd_id2', 'oshpd_id', 'county_name', 'facility_name',\n",
       "       'license_type_desc', 'control_type_desc', 'ed_lic_levl_end',\n",
       "       'ems_station', 'rural_hospital_desc',\n",
       "       ...\n",
       "       'a_ECM_Other_Factors', 'a_ECM_Supplementary_Factors',\n",
       "       'a_ECM_W_Inanimate_Animate_Object', 'a_EC_None',\n",
       "       'a_ECM_Undetermined_Intent', 'a_ECM_NonTrans_Drowning_Subm',\n",
       "       'Inpatient_from_ED', 'a_All_Other_Languages', 'a_English', 'a_Spanish'],\n",
       "      dtype='object', length=187)"
      ]
     },
     "execution_count": 10,
     "metadata": {},
     "output_type": "execute_result"
    }
   ],
   "source": [
    "df_2016 = pd.read_csv('..//..//data/hospitals/2016-ed-pivot-table_20181210.csv')\n",
    "df_2016.columns"
   ]
  },
  {
   "cell_type": "code",
   "execution_count": 11,
   "metadata": {},
   "outputs": [
    {
     "data": {
      "text/plain": [
       "Index(['year', 'oshpd_id2', 'oshpd_id', 'FACILITY_NAME', 'COUNTY_NAME',\n",
       "       'Control_Type_Desc', 'LICENSE_CATEGORY_DESC', 'DBA_ADDRESS1',\n",
       "       'DBA_CITY', 'DBA_ZIP_CODE',\n",
       "       ...\n",
       "       'a_All_Other', 'a_English', 'a_Spanish', 'datayear',\n",
       "       'LICENSED_BED_TOTAL', 'EMS_STATION', 'Invalid_Blank_Disp', 'Other_Disp',\n",
       "       'a_Invalid_Blank_Disp', 'a_Other_Disp'],\n",
       "      dtype='object', length=119)"
      ]
     },
     "execution_count": 11,
     "metadata": {},
     "output_type": "execute_result"
    }
   ],
   "source": [
    "df_2015 = pd.read_csv('..//..//data/hospitals/2015-emergency-department-pivot.csv')\n",
    "df_2015.columns"
   ]
  },
  {
   "cell_type": "code",
   "execution_count": null,
   "metadata": {},
   "outputs": [],
   "source": []
  }
 ],
 "metadata": {
  "kernelspec": {
   "display_name": "Python 3",
   "language": "python",
   "name": "python3"
  },
  "language_info": {
   "codemirror_mode": {
    "name": "ipython",
    "version": 3
   },
   "file_extension": ".py",
   "mimetype": "text/x-python",
   "name": "python",
   "nbconvert_exporter": "python",
   "pygments_lexer": "ipython3",
   "version": "3.7.6"
  }
 },
 "nbformat": 4,
 "nbformat_minor": 4
}
